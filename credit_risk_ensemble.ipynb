{
 "cells": [
  {
   "cell_type": "code",
   "execution_count": 13,
   "metadata": {},
   "outputs": [],
   "source": [
    "import warnings\n",
    "warnings.filterwarnings('ignore')"
   ]
  },
  {
   "cell_type": "code",
   "execution_count": 14,
   "metadata": {},
   "outputs": [],
   "source": [
    "import numpy as np\n",
    "import pandas as pd\n",
    "from pathlib import Path\n",
    "from collections import Counter"
   ]
  },
  {
   "cell_type": "code",
   "execution_count": 15,
   "metadata": {},
   "outputs": [],
   "source": [
    "from sklearn.metrics import balanced_accuracy_score\n",
    "from sklearn.metrics import confusion_matrix\n",
    "from imblearn.metrics import classification_report_imbalanced"
   ]
  },
  {
   "cell_type": "markdown",
   "metadata": {},
   "source": [
    "# Read the CSV and Perform Basic Data Cleaning"
   ]
  },
  {
   "cell_type": "code",
   "execution_count": 16,
   "metadata": {},
   "outputs": [],
   "source": [
    "# https://help.lendingclub.com/hc/en-us/articles/215488038-What-do-the-different-Note-statuses-mean-\n",
    "\n",
    "columns = [\n",
    "    \"loan_amnt\", \"int_rate\", \"installment\", \"home_ownership\",\n",
    "    \"annual_inc\", \"verification_status\", \"issue_d\", \"loan_status\",\n",
    "    \"pymnt_plan\", \"dti\", \"delinq_2yrs\", \"inq_last_6mths\",\n",
    "    \"open_acc\", \"pub_rec\", \"revol_bal\", \"total_acc\",\n",
    "    \"initial_list_status\", \"out_prncp\", \"out_prncp_inv\", \"total_pymnt\",\n",
    "    \"total_pymnt_inv\", \"total_rec_prncp\", \"total_rec_int\", \"total_rec_late_fee\",\n",
    "    \"recoveries\", \"collection_recovery_fee\", \"last_pymnt_amnt\", \"next_pymnt_d\",\n",
    "    \"collections_12_mths_ex_med\", \"policy_code\", \"application_type\", \"acc_now_delinq\",\n",
    "    \"tot_coll_amt\", \"tot_cur_bal\", \"open_acc_6m\", \"open_act_il\",\n",
    "    \"open_il_12m\", \"open_il_24m\", \"mths_since_rcnt_il\", \"total_bal_il\",\n",
    "    \"il_util\", \"open_rv_12m\", \"open_rv_24m\", \"max_bal_bc\",\n",
    "    \"all_util\", \"total_rev_hi_lim\", \"inq_fi\", \"total_cu_tl\",\n",
    "    \"inq_last_12m\", \"acc_open_past_24mths\", \"avg_cur_bal\", \"bc_open_to_buy\",\n",
    "    \"bc_util\", \"chargeoff_within_12_mths\", \"delinq_amnt\", \"mo_sin_old_il_acct\",\n",
    "    \"mo_sin_old_rev_tl_op\", \"mo_sin_rcnt_rev_tl_op\", \"mo_sin_rcnt_tl\", \"mort_acc\",\n",
    "    \"mths_since_recent_bc\", \"mths_since_recent_inq\", \"num_accts_ever_120_pd\", \"num_actv_bc_tl\",\n",
    "    \"num_actv_rev_tl\", \"num_bc_sats\", \"num_bc_tl\", \"num_il_tl\",\n",
    "    \"num_op_rev_tl\", \"num_rev_accts\", \"num_rev_tl_bal_gt_0\",\n",
    "    \"num_sats\", \"num_tl_120dpd_2m\", \"num_tl_30dpd\", \"num_tl_90g_dpd_24m\",\n",
    "    \"num_tl_op_past_12m\", \"pct_tl_nvr_dlq\", \"percent_bc_gt_75\", \"pub_rec_bankruptcies\",\n",
    "    \"tax_liens\", \"tot_hi_cred_lim\", \"total_bal_ex_mort\", \"total_bc_limit\",\n",
    "    \"total_il_high_credit_limit\", \"hardship_flag\", \"debt_settlement_flag\"\n",
    "]\n",
    "\n",
    "target = [\"loan_status\"]"
   ]
  },
  {
   "cell_type": "code",
   "execution_count": 6,
   "metadata": {},
   "outputs": [
    {
     "output_type": "stream",
     "name": "stdout",
     "text": [
      "<class 'pandas.core.frame.DataFrame'>\nRangeIndex: 68817 entries, 0 to 68816\nData columns (total 96 columns):\n #   Column                               Non-Null Count  Dtype  \n---  ------                               --------------  -----  \n 0   loan_amnt                            68817 non-null  float64\n 1   int_rate                             68817 non-null  float64\n 2   installment                          68817 non-null  float64\n 3   annual_inc                           68817 non-null  float64\n 4   loan_status                          68817 non-null  object \n 5   dti                                  68817 non-null  float64\n 6   delinq_2yrs                          68817 non-null  float64\n 7   inq_last_6mths                       68817 non-null  float64\n 8   open_acc                             68817 non-null  float64\n 9   pub_rec                              68817 non-null  float64\n 10  revol_bal                            68817 non-null  float64\n 11  total_acc                            68817 non-null  float64\n 12  out_prncp                            68817 non-null  float64\n 13  out_prncp_inv                        68817 non-null  float64\n 14  total_pymnt                          68817 non-null  float64\n 15  total_pymnt_inv                      68817 non-null  float64\n 16  total_rec_prncp                      68817 non-null  float64\n 17  total_rec_int                        68817 non-null  float64\n 18  total_rec_late_fee                   68817 non-null  float64\n 19  recoveries                           68817 non-null  float64\n 20  collection_recovery_fee              68817 non-null  float64\n 21  last_pymnt_amnt                      68817 non-null  float64\n 22  collections_12_mths_ex_med           68817 non-null  float64\n 23  policy_code                          68817 non-null  float64\n 24  acc_now_delinq                       68817 non-null  float64\n 25  tot_coll_amt                         68817 non-null  float64\n 26  tot_cur_bal                          68817 non-null  float64\n 27  open_acc_6m                          68817 non-null  float64\n 28  open_act_il                          68817 non-null  float64\n 29  open_il_12m                          68817 non-null  float64\n 30  open_il_24m                          68817 non-null  float64\n 31  mths_since_rcnt_il                   68817 non-null  float64\n 32  total_bal_il                         68817 non-null  float64\n 33  il_util                              68817 non-null  float64\n 34  open_rv_12m                          68817 non-null  float64\n 35  open_rv_24m                          68817 non-null  float64\n 36  max_bal_bc                           68817 non-null  float64\n 37  all_util                             68817 non-null  float64\n 38  total_rev_hi_lim                     68817 non-null  float64\n 39  inq_fi                               68817 non-null  float64\n 40  total_cu_tl                          68817 non-null  float64\n 41  inq_last_12m                         68817 non-null  float64\n 42  acc_open_past_24mths                 68817 non-null  float64\n 43  avg_cur_bal                          68817 non-null  float64\n 44  bc_open_to_buy                       68817 non-null  float64\n 45  bc_util                              68817 non-null  float64\n 46  chargeoff_within_12_mths             68817 non-null  float64\n 47  delinq_amnt                          68817 non-null  float64\n 48  mo_sin_old_il_acct                   68817 non-null  float64\n 49  mo_sin_old_rev_tl_op                 68817 non-null  float64\n 50  mo_sin_rcnt_rev_tl_op                68817 non-null  float64\n 51  mo_sin_rcnt_tl                       68817 non-null  float64\n 52  mort_acc                             68817 non-null  float64\n 53  mths_since_recent_bc                 68817 non-null  float64\n 54  mths_since_recent_inq                68817 non-null  float64\n 55  num_accts_ever_120_pd                68817 non-null  float64\n 56  num_actv_bc_tl                       68817 non-null  float64\n 57  num_actv_rev_tl                      68817 non-null  float64\n 58  num_bc_sats                          68817 non-null  float64\n 59  num_bc_tl                            68817 non-null  float64\n 60  num_il_tl                            68817 non-null  float64\n 61  num_op_rev_tl                        68817 non-null  float64\n 62  num_rev_accts                        68817 non-null  float64\n 63  num_rev_tl_bal_gt_0                  68817 non-null  float64\n 64  num_sats                             68817 non-null  float64\n 65  num_tl_120dpd_2m                     68817 non-null  float64\n 66  num_tl_30dpd                         68817 non-null  float64\n 67  num_tl_90g_dpd_24m                   68817 non-null  float64\n 68  num_tl_op_past_12m                   68817 non-null  float64\n 69  pct_tl_nvr_dlq                       68817 non-null  float64\n 70  percent_bc_gt_75                     68817 non-null  float64\n 71  pub_rec_bankruptcies                 68817 non-null  float64\n 72  tax_liens                            68817 non-null  float64\n 73  tot_hi_cred_lim                      68817 non-null  float64\n 74  total_bal_ex_mort                    68817 non-null  float64\n 75  total_bc_limit                       68817 non-null  float64\n 76  total_il_high_credit_limit           68817 non-null  float64\n 77  home_ownership_ANY                   68817 non-null  uint8  \n 78  home_ownership_MORTGAGE              68817 non-null  uint8  \n 79  home_ownership_OWN                   68817 non-null  uint8  \n 80  home_ownership_RENT                  68817 non-null  uint8  \n 81  verification_status_Not Verified     68817 non-null  uint8  \n 82  verification_status_Source Verified  68817 non-null  uint8  \n 83  verification_status_Verified         68817 non-null  uint8  \n 84  issue_d_Feb-2019                     68817 non-null  uint8  \n 85  issue_d_Jan-2019                     68817 non-null  uint8  \n 86  issue_d_Mar-2019                     68817 non-null  uint8  \n 87  pymnt_plan_n                         68817 non-null  uint8  \n 88  initial_list_status_f                68817 non-null  uint8  \n 89  initial_list_status_w                68817 non-null  uint8  \n 90  next_pymnt_d_Apr-2019                68817 non-null  uint8  \n 91  next_pymnt_d_May-2019                68817 non-null  uint8  \n 92  application_type_Individual          68817 non-null  uint8  \n 93  application_type_Joint App           68817 non-null  uint8  \n 94  hardship_flag_N                      68817 non-null  uint8  \n 95  debt_settlement_flag_N               68817 non-null  uint8  \ndtypes: float64(76), object(1), uint8(19)\nmemory usage: 41.7+ MB\n"
     ]
    }
   ],
   "source": [
    "# Load the data\n",
    "file_path = Path('Resources/LoanStats_2019Q1.csv')\n",
    "df = pd.read_csv(file_path, skiprows=1)[:-2]\n",
    "df = df.loc[:, columns].copy()\n",
    "\n",
    "# Drop the null columns where all values are null\n",
    "df = df.dropna(axis='columns', how='all')\n",
    "\n",
    "# Drop the null rows\n",
    "df = df.dropna()\n",
    "\n",
    "# Remove the `Issued` loan status\n",
    "issued_mask = df['loan_status'] != 'Issued'\n",
    "df = df.loc[issued_mask]\n",
    "\n",
    "# convert interest rate to numerical\n",
    "df['int_rate'] = df['int_rate'].str.replace('%', '')\n",
    "df['int_rate'] = df['int_rate'].astype('float') / 100\n",
    "\n",
    "\n",
    "# Convert the target column values to low_risk and high_risk based on their values\n",
    "x = {'Current': 'low_risk'}   \n",
    "df = df.replace(x)\n",
    "\n",
    "x = dict.fromkeys(['Late (31-120 days)', 'Late (16-30 days)', 'Default', 'In Grace Period'], 'high_risk')    \n",
    "df = df.replace(x)\n",
    "\n",
    "df.reset_index(inplace=True, drop=True)\n",
    "\n",
    "df_encoded = pd.get_dummies(df, columns=['home_ownership', 'verification_status', 'issue_d', 'pymnt_plan', 'initial_list_status', 'next_pymnt_d', 'application_type', 'hardship_flag', 'debt_settlement_flag'])\n",
    "df_encoded.info(verbose=True)"
   ]
  },
  {
   "cell_type": "markdown",
   "metadata": {},
   "source": [
    "# Split the Data into Training and Testing"
   ]
  },
  {
   "cell_type": "code",
   "execution_count": 7,
   "metadata": {},
   "outputs": [],
   "source": [
    "# Create our features\n",
    "X = df_encoded.drop(columns=\"loan_status\")\n",
    "\n",
    "\n",
    "# Create our target\n",
    "y = df_encoded[\"loan_status\"]"
   ]
  },
  {
   "cell_type": "code",
   "execution_count": 8,
   "metadata": {},
   "outputs": [
    {
     "output_type": "execute_result",
     "data": {
      "text/plain": [
       "          loan_amnt      int_rate   installment    annual_inc           dti  \\\n",
       "count  68817.000000  68817.000000  68817.000000  6.881700e+04  68817.000000   \n",
       "mean   16677.594562      0.127718    480.652863  8.821371e+04     21.778153   \n",
       "std    10277.348590      0.048130    288.062432  1.155800e+05     20.199244   \n",
       "min     1000.000000      0.060000     30.890000  4.000000e+01      0.000000   \n",
       "25%     9000.000000      0.088100    265.730000  5.000000e+04     13.890000   \n",
       "50%    15000.000000      0.118000    404.560000  7.300000e+04     19.760000   \n",
       "75%    24000.000000      0.155700    648.100000  1.040000e+05     26.660000   \n",
       "max    40000.000000      0.308400   1676.230000  8.797500e+06    999.000000   \n",
       "\n",
       "        delinq_2yrs  inq_last_6mths      open_acc       pub_rec  \\\n",
       "count  68817.000000    68817.000000  68817.000000  68817.000000   \n",
       "mean       0.217766        0.497697     12.587340      0.126030   \n",
       "std        0.718367        0.758122      6.022869      0.336797   \n",
       "min        0.000000        0.000000      2.000000      0.000000   \n",
       "25%        0.000000        0.000000      8.000000      0.000000   \n",
       "50%        0.000000        0.000000     11.000000      0.000000   \n",
       "75%        0.000000        1.000000     16.000000      0.000000   \n",
       "max       18.000000        5.000000     72.000000      4.000000   \n",
       "\n",
       "           revol_bal  ...  issue_d_Mar-2019  pymnt_plan_n  \\\n",
       "count   68817.000000  ...      68817.000000       68817.0   \n",
       "mean    17604.142828  ...          0.177238           1.0   \n",
       "std     21835.880400  ...          0.381873           0.0   \n",
       "min         0.000000  ...          0.000000           1.0   \n",
       "25%      6293.000000  ...          0.000000           1.0   \n",
       "50%     12068.000000  ...          0.000000           1.0   \n",
       "75%     21735.000000  ...          0.000000           1.0   \n",
       "max    587191.000000  ...          1.000000           1.0   \n",
       "\n",
       "       initial_list_status_f  initial_list_status_w  next_pymnt_d_Apr-2019  \\\n",
       "count           68817.000000           68817.000000           68817.000000   \n",
       "mean                0.123879               0.876121               0.383161   \n",
       "std                 0.329446               0.329446               0.486161   \n",
       "min                 0.000000               0.000000               0.000000   \n",
       "25%                 0.000000               1.000000               0.000000   \n",
       "50%                 0.000000               1.000000               0.000000   \n",
       "75%                 0.000000               1.000000               1.000000   \n",
       "max                 1.000000               1.000000               1.000000   \n",
       "\n",
       "       next_pymnt_d_May-2019  application_type_Individual  \\\n",
       "count           68817.000000                 68817.000000   \n",
       "mean                0.616839                     0.860340   \n",
       "std                 0.486161                     0.346637   \n",
       "min                 0.000000                     0.000000   \n",
       "25%                 0.000000                     1.000000   \n",
       "50%                 1.000000                     1.000000   \n",
       "75%                 1.000000                     1.000000   \n",
       "max                 1.000000                     1.000000   \n",
       "\n",
       "       application_type_Joint App  hardship_flag_N  debt_settlement_flag_N  \n",
       "count                68817.000000          68817.0                 68817.0  \n",
       "mean                     0.139660              1.0                     1.0  \n",
       "std                      0.346637              0.0                     0.0  \n",
       "min                      0.000000              1.0                     1.0  \n",
       "25%                      0.000000              1.0                     1.0  \n",
       "50%                      0.000000              1.0                     1.0  \n",
       "75%                      0.000000              1.0                     1.0  \n",
       "max                      1.000000              1.0                     1.0  \n",
       "\n",
       "[8 rows x 95 columns]"
      ],
      "text/html": "<div>\n<style scoped>\n    .dataframe tbody tr th:only-of-type {\n        vertical-align: middle;\n    }\n\n    .dataframe tbody tr th {\n        vertical-align: top;\n    }\n\n    .dataframe thead th {\n        text-align: right;\n    }\n</style>\n<table border=\"1\" class=\"dataframe\">\n  <thead>\n    <tr style=\"text-align: right;\">\n      <th></th>\n      <th>loan_amnt</th>\n      <th>int_rate</th>\n      <th>installment</th>\n      <th>annual_inc</th>\n      <th>dti</th>\n      <th>delinq_2yrs</th>\n      <th>inq_last_6mths</th>\n      <th>open_acc</th>\n      <th>pub_rec</th>\n      <th>revol_bal</th>\n      <th>...</th>\n      <th>issue_d_Mar-2019</th>\n      <th>pymnt_plan_n</th>\n      <th>initial_list_status_f</th>\n      <th>initial_list_status_w</th>\n      <th>next_pymnt_d_Apr-2019</th>\n      <th>next_pymnt_d_May-2019</th>\n      <th>application_type_Individual</th>\n      <th>application_type_Joint App</th>\n      <th>hardship_flag_N</th>\n      <th>debt_settlement_flag_N</th>\n    </tr>\n  </thead>\n  <tbody>\n    <tr>\n      <th>count</th>\n      <td>68817.000000</td>\n      <td>68817.000000</td>\n      <td>68817.000000</td>\n      <td>6.881700e+04</td>\n      <td>68817.000000</td>\n      <td>68817.000000</td>\n      <td>68817.000000</td>\n      <td>68817.000000</td>\n      <td>68817.000000</td>\n      <td>68817.000000</td>\n      <td>...</td>\n      <td>68817.000000</td>\n      <td>68817.0</td>\n      <td>68817.000000</td>\n      <td>68817.000000</td>\n      <td>68817.000000</td>\n      <td>68817.000000</td>\n      <td>68817.000000</td>\n      <td>68817.000000</td>\n      <td>68817.0</td>\n      <td>68817.0</td>\n    </tr>\n    <tr>\n      <th>mean</th>\n      <td>16677.594562</td>\n      <td>0.127718</td>\n      <td>480.652863</td>\n      <td>8.821371e+04</td>\n      <td>21.778153</td>\n      <td>0.217766</td>\n      <td>0.497697</td>\n      <td>12.587340</td>\n      <td>0.126030</td>\n      <td>17604.142828</td>\n      <td>...</td>\n      <td>0.177238</td>\n      <td>1.0</td>\n      <td>0.123879</td>\n      <td>0.876121</td>\n      <td>0.383161</td>\n      <td>0.616839</td>\n      <td>0.860340</td>\n      <td>0.139660</td>\n      <td>1.0</td>\n      <td>1.0</td>\n    </tr>\n    <tr>\n      <th>std</th>\n      <td>10277.348590</td>\n      <td>0.048130</td>\n      <td>288.062432</td>\n      <td>1.155800e+05</td>\n      <td>20.199244</td>\n      <td>0.718367</td>\n      <td>0.758122</td>\n      <td>6.022869</td>\n      <td>0.336797</td>\n      <td>21835.880400</td>\n      <td>...</td>\n      <td>0.381873</td>\n      <td>0.0</td>\n      <td>0.329446</td>\n      <td>0.329446</td>\n      <td>0.486161</td>\n      <td>0.486161</td>\n      <td>0.346637</td>\n      <td>0.346637</td>\n      <td>0.0</td>\n      <td>0.0</td>\n    </tr>\n    <tr>\n      <th>min</th>\n      <td>1000.000000</td>\n      <td>0.060000</td>\n      <td>30.890000</td>\n      <td>4.000000e+01</td>\n      <td>0.000000</td>\n      <td>0.000000</td>\n      <td>0.000000</td>\n      <td>2.000000</td>\n      <td>0.000000</td>\n      <td>0.000000</td>\n      <td>...</td>\n      <td>0.000000</td>\n      <td>1.0</td>\n      <td>0.000000</td>\n      <td>0.000000</td>\n      <td>0.000000</td>\n      <td>0.000000</td>\n      <td>0.000000</td>\n      <td>0.000000</td>\n      <td>1.0</td>\n      <td>1.0</td>\n    </tr>\n    <tr>\n      <th>25%</th>\n      <td>9000.000000</td>\n      <td>0.088100</td>\n      <td>265.730000</td>\n      <td>5.000000e+04</td>\n      <td>13.890000</td>\n      <td>0.000000</td>\n      <td>0.000000</td>\n      <td>8.000000</td>\n      <td>0.000000</td>\n      <td>6293.000000</td>\n      <td>...</td>\n      <td>0.000000</td>\n      <td>1.0</td>\n      <td>0.000000</td>\n      <td>1.000000</td>\n      <td>0.000000</td>\n      <td>0.000000</td>\n      <td>1.000000</td>\n      <td>0.000000</td>\n      <td>1.0</td>\n      <td>1.0</td>\n    </tr>\n    <tr>\n      <th>50%</th>\n      <td>15000.000000</td>\n      <td>0.118000</td>\n      <td>404.560000</td>\n      <td>7.300000e+04</td>\n      <td>19.760000</td>\n      <td>0.000000</td>\n      <td>0.000000</td>\n      <td>11.000000</td>\n      <td>0.000000</td>\n      <td>12068.000000</td>\n      <td>...</td>\n      <td>0.000000</td>\n      <td>1.0</td>\n      <td>0.000000</td>\n      <td>1.000000</td>\n      <td>0.000000</td>\n      <td>1.000000</td>\n      <td>1.000000</td>\n      <td>0.000000</td>\n      <td>1.0</td>\n      <td>1.0</td>\n    </tr>\n    <tr>\n      <th>75%</th>\n      <td>24000.000000</td>\n      <td>0.155700</td>\n      <td>648.100000</td>\n      <td>1.040000e+05</td>\n      <td>26.660000</td>\n      <td>0.000000</td>\n      <td>1.000000</td>\n      <td>16.000000</td>\n      <td>0.000000</td>\n      <td>21735.000000</td>\n      <td>...</td>\n      <td>0.000000</td>\n      <td>1.0</td>\n      <td>0.000000</td>\n      <td>1.000000</td>\n      <td>1.000000</td>\n      <td>1.000000</td>\n      <td>1.000000</td>\n      <td>0.000000</td>\n      <td>1.0</td>\n      <td>1.0</td>\n    </tr>\n    <tr>\n      <th>max</th>\n      <td>40000.000000</td>\n      <td>0.308400</td>\n      <td>1676.230000</td>\n      <td>8.797500e+06</td>\n      <td>999.000000</td>\n      <td>18.000000</td>\n      <td>5.000000</td>\n      <td>72.000000</td>\n      <td>4.000000</td>\n      <td>587191.000000</td>\n      <td>...</td>\n      <td>1.000000</td>\n      <td>1.0</td>\n      <td>1.000000</td>\n      <td>1.000000</td>\n      <td>1.000000</td>\n      <td>1.000000</td>\n      <td>1.000000</td>\n      <td>1.000000</td>\n      <td>1.0</td>\n      <td>1.0</td>\n    </tr>\n  </tbody>\n</table>\n<p>8 rows × 95 columns</p>\n</div>"
     },
     "metadata": {},
     "execution_count": 8
    }
   ],
   "source": [
    "X.describe()"
   ]
  },
  {
   "cell_type": "code",
   "execution_count": 10,
   "metadata": {},
   "outputs": [
    {
     "output_type": "execute_result",
     "data": {
      "text/plain": [
       "low_risk     68470\n",
       "high_risk      347\n",
       "Name: loan_status, dtype: int64"
      ]
     },
     "metadata": {},
     "execution_count": 10
    }
   ],
   "source": [
    "# Check the balance of our target values\n",
    "y.value_counts()"
   ]
  },
  {
   "cell_type": "code",
   "execution_count": 17,
   "metadata": {},
   "outputs": [],
   "source": [
    "from sklearn.model_selection import train_test_split\n",
    "from sklearn.preprocessing import StandardScaler\n",
    "# YOUR CODE HERE\n",
    "X_train, X_test, y_train, y_test = train_test_split(X, y, random_state=1)\n",
    "Counter(y_train)\n",
    "\n",
    "scaler = StandardScaler().fit(X_train)\n",
    "X_train_scaled = scaler.transform(X_train)\n",
    "X_test_scaled = scaler.transform(X_test)"
   ]
  },
  {
   "cell_type": "markdown",
   "metadata": {},
   "source": [
    "# Ensemble Learners\n",
    "\n",
    "In this section, you will compare two ensemble algorithms to determine which algorithm results in the best performance. You will train a Balanced Random Forest Classifier and an Easy Ensemble AdaBoost classifier . For each algorithm, be sure to complete the folliowing steps:\n",
    "\n",
    "1. Train the model using the training data. \n",
    "2. Calculate the balanced accuracy score from sklearn.metrics.\n",
    "3. Print the confusion matrix from sklearn.metrics.\n",
    "4. Generate a classication report using the `imbalanced_classification_report` from imbalanced-learn.\n",
    "5. For the Balanced Random Forest Classifier onely, print the feature importance sorted in descending order (most important feature to least important) along with the feature score\n",
    "\n",
    "Note: Use a random state of 1 for each algorithm to ensure consistency between tests"
   ]
  },
  {
   "cell_type": "markdown",
   "metadata": {},
   "source": [
    "### Balanced Random Forest Classifier"
   ]
  },
  {
   "cell_type": "code",
   "execution_count": 20,
   "metadata": {},
   "outputs": [],
   "source": [
    "# Resample the training data with the BalancedRandomForestClassifier\n",
    "# YOUR CODE HERE\n",
    "from imblearn.ensemble import BalancedRandomForestClassifier\n",
    "brf_model = BalancedRandomForestClassifier(n_estimators=100, random_state=1)\n",
    "brf_model = brf_model.fit(X_train_scaled, y_train)\n",
    "\n",
    "predictions = brf_model.predict(X_test_scaled)"
   ]
  },
  {
   "cell_type": "code",
   "execution_count": 22,
   "metadata": {},
   "outputs": [
    {
     "output_type": "execute_result",
     "data": {
      "text/plain": [
       "0.7887512850910909"
      ]
     },
     "metadata": {},
     "execution_count": 22
    }
   ],
   "source": [
    "# Calculated the balanced accuracy score\n",
    "# YOUR CODE HERE\n",
    "acc_score = balanced_accuracy_score(y_test, predictions)\n",
    "acc_score"
   ]
  },
  {
   "cell_type": "code",
   "execution_count": 21,
   "metadata": {},
   "outputs": [
    {
     "output_type": "execute_result",
     "data": {
      "text/plain": [
       "array([[   71,    30],\n",
       "       [ 2146, 14958]])"
      ]
     },
     "metadata": {},
     "execution_count": 21
    }
   ],
   "source": [
    "# Display the confusion matrix\n",
    "# YOUR CODE HERE\n",
    "cm = confusion_matrix(y_test, predictions)\n",
    "cm"
   ]
  },
  {
   "cell_type": "code",
   "execution_count": 23,
   "metadata": {},
   "outputs": [
    {
     "output_type": "stream",
     "name": "stdout",
     "text": [
      "                   pre       rec       spe        f1       geo       iba       sup\n\n  high_risk       0.03      0.70      0.87      0.06      0.78      0.60       101\n   low_risk       1.00      0.87      0.70      0.93      0.78      0.63     17104\n\navg / total       0.99      0.87      0.70      0.93      0.78      0.63     17205\n\n"
     ]
    }
   ],
   "source": [
    "# Print the imbalanced classification report\n",
    "# YOUR CODE HERE\n",
    "print(classification_report_imbalanced(y_test, predictions))"
   ]
  },
  {
   "cell_type": "code",
   "execution_count": 31,
   "metadata": {},
   "outputs": [
    {
     "output_type": "execute_result",
     "data": {
      "text/plain": [
       "[(0.07876809003486353, 'total_rec_prncp'),\n",
       " (0.05883806887524815, 'total_pymnt'),\n",
       " (0.05625613759225244, 'total_pymnt_inv'),\n",
       " (0.05355513093134745, 'total_rec_int'),\n",
       " (0.0500331813446525, 'last_pymnt_amnt'),\n",
       " (0.02966959508700077, 'int_rate'),\n",
       " (0.021129125328012987, 'issue_d_Jan-2019'),\n",
       " (0.01980242888931366, 'installment'),\n",
       " (0.01747062730041245, 'dti'),\n",
       " (0.016858293184471483, 'out_prncp_inv'),\n",
       " (0.01641297102011915, 'total_bal_ex_mort'),\n",
       " (0.015220714904737209, 'mths_since_recent_inq'),\n",
       " (0.015115240704562424, 'issue_d_Mar-2019'),\n",
       " (0.014926655663448373, 'revol_bal'),\n",
       " (0.014899352873994727, 'max_bal_bc'),\n",
       " (0.014881069023035237, 'out_prncp'),\n",
       " (0.014859446582326507, 'mo_sin_old_rev_tl_op'),\n",
       " (0.014832564501144122, 'annual_inc'),\n",
       " (0.014613819728800227, 'bc_util'),\n",
       " (0.014487685026878092, 'tot_hi_cred_lim'),\n",
       " (0.013921085423763812, 'mo_sin_old_il_acct'),\n",
       " (0.013534131593418711, 'mths_since_rcnt_il'),\n",
       " (0.013364759441576994, 'total_rev_hi_lim'),\n",
       " (0.01332289882475225, 'avg_cur_bal'),\n",
       " (0.013265926832893358, 'bc_open_to_buy'),\n",
       " (0.01311545089813887, 'il_util'),\n",
       " (0.01304530062898567, 'total_bc_limit'),\n",
       " (0.0130446065288952, 'all_util'),\n",
       " (0.013030046723135838, 'pct_tl_nvr_dlq'),\n",
       " (0.012855901280381887, 'tot_cur_bal'),\n",
       " (0.01279908506759016, 'total_il_high_credit_limit'),\n",
       " (0.012773576514405109, 'inq_last_12m'),\n",
       " (0.011968994260747247, 'total_bal_il'),\n",
       " (0.010982948025240226, 'mo_sin_rcnt_tl'),\n",
       " (0.010579906006851516, 'loan_amnt'),\n",
       " (0.010575363106694519, 'mths_since_recent_bc'),\n",
       " (0.010320067009550682, 'num_rev_accts'),\n",
       " (0.010209212170253059, 'total_acc'),\n",
       " (0.009753839399393215, 'open_acc_6m'),\n",
       " (0.009662050208879065, 'num_il_tl'),\n",
       " (0.009632472481996241, 'num_actv_rev_tl'),\n",
       " (0.009393346012674945, 'mo_sin_rcnt_rev_tl_op'),\n",
       " (0.00872448189550355, 'num_bc_tl'),\n",
       " (0.008628938824946404, 'num_sats'),\n",
       " (0.008330966254402506, 'num_op_rev_tl'),\n",
       " (0.007570544824579072, 'num_bc_sats'),\n",
       " (0.007548811505974241, 'num_tl_op_past_12m'),\n",
       " (0.007489717491934961, 'open_act_il'),\n",
       " (0.007382231721841728, 'open_acc'),\n",
       " (0.007272665006598051, 'num_rev_tl_bal_gt_0'),\n",
       " (0.006998827313196186, 'total_rec_late_fee'),\n",
       " (0.006866662924995743, 'num_actv_bc_tl'),\n",
       " (0.006714495620628373, 'acc_open_past_24mths'),\n",
       " (0.006561432872333855, 'open_il_24m'),\n",
       " (0.006240598451492287, 'inq_fi'),\n",
       " (0.006216409633238659, 'inq_last_6mths'),\n",
       " (0.0061708920490257954, 'mort_acc'),\n",
       " (0.006083218608279307, 'total_cu_tl'),\n",
       " (0.005640206440873574, 'issue_d_Feb-2019'),\n",
       " (0.005634546230136711, 'open_rv_24m'),\n",
       " (0.005131046989565006, 'percent_bc_gt_75'),\n",
       " (0.005106000423451099, 'next_pymnt_d_Apr-2019'),\n",
       " (0.005036652777545191, 'next_pymnt_d_May-2019'),\n",
       " (0.004860024796675963, 'open_il_12m'),\n",
       " (0.004198582835532627, 'tot_coll_amt'),\n",
       " (0.004018916067963884, 'open_rv_12m'),\n",
       " (0.0037571920083085985, 'num_accts_ever_120_pd'),\n",
       " (0.003082852259926947, 'delinq_2yrs'),\n",
       " (0.0029133221443170495, 'home_ownership_RENT'),\n",
       " (0.002824523629114469, 'home_ownership_OWN'),\n",
       " (0.002204946377565813, 'verification_status_Not Verified'),\n",
       " (0.0020912385738361574, 'application_type_Joint App'),\n",
       " (0.002015258269512615, 'pub_rec'),\n",
       " (0.0019325773153555006, 'verification_status_Verified'),\n",
       " (0.001901604006185586, 'application_type_Individual'),\n",
       " (0.0015046400907840708, 'verification_status_Source Verified'),\n",
       " (0.0014589723334940362, 'home_ownership_MORTGAGE'),\n",
       " (0.0013727925120781853, 'pub_rec_bankruptcies'),\n",
       " (0.0011520703643731528, 'initial_list_status_w'),\n",
       " (0.0011005704165634263, 'initial_list_status_f'),\n",
       " (0.0009956935704327383, 'num_tl_90g_dpd_24m'),\n",
       " (0.0007150315534652695, 'collections_12_mths_ex_med'),\n",
       " (0.0004955956183545533, 'home_ownership_ANY'),\n",
       " (0.0002730803587770788, 'chargeoff_within_12_mths'),\n",
       " (0.0, 'tax_liens'),\n",
       " (0.0, 'recoveries'),\n",
       " (0.0, 'pymnt_plan_n'),\n",
       " (0.0, 'policy_code'),\n",
       " (0.0, 'num_tl_30dpd'),\n",
       " (0.0, 'num_tl_120dpd_2m'),\n",
       " (0.0, 'hardship_flag_N'),\n",
       " (0.0, 'delinq_amnt'),\n",
       " (0.0, 'debt_settlement_flag_N'),\n",
       " (0.0, 'collection_recovery_fee'),\n",
       " (0.0, 'acc_now_delinq')]"
      ]
     },
     "metadata": {},
     "execution_count": 31
    }
   ],
   "source": [
    "# List the features sorted in descending order by feature importance\n",
    "# YOUR CODE HERE\n",
    "#importances = brf_model.feature_importances_\n",
    "#importances\n",
    "sorted(zip(brf_model.feature_importances_, X.columns), reverse=True)\n"
   ]
  },
  {
   "cell_type": "markdown",
   "metadata": {},
   "source": [
    "### Easy Ensemble AdaBoost Classifier"
   ]
  },
  {
   "cell_type": "code",
   "execution_count": 32,
   "metadata": {},
   "outputs": [],
   "source": [
    "# Train the EasyEnsembleClassifier\n",
    "# YOUR CODE HERE\n",
    "from imblearn.ensemble import EasyEnsembleClassifier\n",
    "eec_model = EasyEnsembleClassifier(n_estimators=100, random_state=1)\n",
    "eec_model = eec_model.fit(X_train_scaled, y_train)\n",
    "\n",
    "predictions = eec_model.predict(X_test_scaled)"
   ]
  },
  {
   "cell_type": "code",
   "execution_count": 33,
   "metadata": {},
   "outputs": [
    {
     "output_type": "execute_result",
     "data": {
      "text/plain": [
       "0.931601605553446"
      ]
     },
     "metadata": {},
     "execution_count": 33
    }
   ],
   "source": [
    "# Calculated the balanced accuracy score\n",
    "# YOUR CODE HERE\n",
    "balanced_accuracy_score(y_test, predictions)"
   ]
  },
  {
   "cell_type": "code",
   "execution_count": 34,
   "metadata": {},
   "outputs": [
    {
     "output_type": "execute_result",
     "data": {
      "text/plain": [
       "array([[   93,     8],\n",
       "       [  985, 16119]])"
      ]
     },
     "metadata": {},
     "execution_count": 34
    }
   ],
   "source": [
    "# Display the confusion matrix\n",
    "# YOUR CODE HERE\n",
    "confusion_matrix(y_test, predictions)"
   ]
  },
  {
   "cell_type": "code",
   "execution_count": 35,
   "metadata": {},
   "outputs": [
    {
     "output_type": "stream",
     "name": "stdout",
     "text": [
      "                   pre       rec       spe        f1       geo       iba       sup\n\n  high_risk       0.09      0.92      0.94      0.16      0.93      0.87       101\n   low_risk       1.00      0.94      0.92      0.97      0.93      0.87     17104\n\navg / total       0.99      0.94      0.92      0.97      0.93      0.87     17205\n\n"
     ]
    }
   ],
   "source": [
    "# Print the imbalanced classification report\n",
    "# YOUR CODE HERE\n",
    "print(classification_report_imbalanced(y_test, predictions))"
   ]
  },
  {
   "cell_type": "code",
   "execution_count": null,
   "metadata": {},
   "outputs": [],
   "source": []
  }
 ],
 "metadata": {
  "kernelspec": {
   "display_name": "mlenv",
   "language": "python",
   "name": "mlenv"
  },
  "language_info": {
   "codemirror_mode": {
    "name": "ipython",
    "version": 3
   },
   "file_extension": ".py",
   "mimetype": "text/x-python",
   "name": "python",
   "nbconvert_exporter": "python",
   "pygments_lexer": "ipython3",
   "version": "3.7.7"
  }
 },
 "nbformat": 4,
 "nbformat_minor": 2
}